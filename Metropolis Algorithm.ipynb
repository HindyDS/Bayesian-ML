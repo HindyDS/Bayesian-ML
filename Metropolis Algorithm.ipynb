{
 "cells": [
  {
   "cell_type": "markdown",
   "id": "f9b26356",
   "metadata": {},
   "source": [
    "So we start by observing about 9 power outages in here in the city of Charlottesville Virginia. And we know that the number of outages per year can be model by a <i><b>Poisson</b></i> distribution with a rate parameter argument by <i><b>Lambda</i></b>. The parameter <i><b>Lambda</i></b> is drawn from a <i><b>Gamma</i></b> prior distribution, that has parameters <i><b>Alpha</i></b> and <i><b>Beta</i></b>, <i><b>Alpha</i></b> equals 7 and <i><b>Beta</i></b> equals 1 for this particular problem."
   ]
  },
  {
   "cell_type": "code",
   "execution_count": 109,
   "id": "3cddff44",
   "metadata": {},
   "outputs": [],
   "source": [
    "import numpy as np\n",
    "from scipy.special import gamma, factorial\n",
    "import matplotlib.pyplot as plt"
   ]
  },
  {
   "cell_type": "markdown",
   "id": "773014da",
   "metadata": {},
   "source": [
    "<b>Gamma</b> distributions are sometimes parameterized with two variables, with a probability density function of:\n",
    "\n",
    "\\begin{equation} f(\\lambda, \\alpha, \\beta) = \\frac{\\beta^\\alpha \\lambda^{\\alpha - 1} e^{-\\beta\\lambda}}{\\Gamma(\\alpha)} \\end{equation}"
   ]
  },
  {
   "cell_type": "code",
   "execution_count": 118,
   "id": "5c0a6ab5",
   "metadata": {},
   "outputs": [],
   "source": [
    "def prior_proba_density(lam, alpha, beta):\n",
    "    return (beta ** (alpha) * lam ** (alpha - 1) * np.exp(-beta * lam) / gamma(alpha))"
   ]
  },
  {
   "cell_type": "markdown",
   "id": "f2d993d8",
   "metadata": {},
   "source": [
    "The probability mass function for <b>Poisson</b> is:\n",
    "\n",
    "\\begin{equation} f(k) = exp(-\\mu)\\frac{\\mu^k}{k!} \\end{equation}"
   ]
  },
  {
   "cell_type": "code",
   "execution_count": 119,
   "id": "fdce076b",
   "metadata": {},
   "outputs": [],
   "source": [
    "def likelihood_density(mu, k):\n",
    "    return (mu ** (k) * np.exp(-mu) / factorial(k))"
   ]
  },
  {
   "cell_type": "code",
   "execution_count": 116,
   "id": "a30edfe0",
   "metadata": {},
   "outputs": [],
   "source": [
    "# Initiates\n",
    "lambda_curr = 8.0\n",
    "alpha = 7.0\n",
    "beta = 1.0\n",
    "data_val = 9\n",
    "\n",
    "lambda_array = np.zeros(1000)\n",
    "\n",
    "for i in range(1000):\n",
    "    # Calculate current prior with pre-defined Gamma probability density distribution\n",
    "    prior = prior_proba_density(lam=lambda_curr, alpha=alpha, beta=beta)\n",
    "    \n",
    "    # Calculate current likelihood with pre-defined Poisson probability density function\n",
    "    likelihood = likelihood_density(mu=lambda_curr, k=data_val)\n",
    "    \n",
    "    # Get posterior with likelihood and prior calculated above\n",
    "    posterior_curr = likelihood * prior\n",
    "\n",
    "    # Sample from a proposed probability distribution of Gaussian with starting parameter Lamba which equals to 5\n",
    "    lambda_proposed = np.random.normal(loc=lambda_curr, scale=0.5)\n",
    "    \n",
    "    # Calculate proposed prior with pre-defined Gamma probability density distribution\n",
    "    prior = prior_proba_density(lam=lambda_proposed, alpha=alpha, beta=beta)\n",
    "    \n",
    "    # Calculate proposed likelihood with pre-defined Poisson probability density function\n",
    "    likelihood = likelihood_density(mu=lambda_proposed, k=data_val)\n",
    "    \n",
    "    # Get posterior with likelihood and prior calculated above\n",
    "    posterior_proposed = likelihood * prior\n",
    "\n",
    "    # Compute the probability of move\n",
    "    ratio = posterior_proposed / posterior_curr\n",
    "    p_move = min(ratio, 1)\n",
    "    random_draw = np.random.uniform(0, 1)\n",
    "    if random_draw < p_move:\n",
    "        lambda_curr = lambda_proposed\n",
    "\n",
    "    lambda_array[i] = lambda_curr"
   ]
  },
  {
   "cell_type": "code",
   "execution_count": 117,
   "id": "0398d151",
   "metadata": {},
   "outputs": [
    {
     "data": {
      "image/png": "[encoded data removed]",
      "text/plain": [
       "<Figure size 432x288 with 1 Axes>"
      ]
     },
     "metadata": {
      "needs_background": "light"
     },
     "output_type": "display_data"
    }
   ],
   "source": [
    "plt.hist(lambda_array, bins=100)\n",
    "plt.show()"
   ]
  }
 ],
 "metadata": {
  "kernelspec": {
   "display_name": "Python 3",
   "language": "python",
   "name": "python3"
  },
  "language_info": {
   "codemirror_mode": {
    "name": "ipython",
    "version": 3
   },
   "file_extension": ".py",
   "mimetype": "text/x-python",
   "name": "python",
   "nbconvert_exporter": "python",
   "pygments_lexer": "ipython3",
   "version": "3.8.8"
  }
 },
 "nbformat": 4,
 "nbformat_minor": 5
}
